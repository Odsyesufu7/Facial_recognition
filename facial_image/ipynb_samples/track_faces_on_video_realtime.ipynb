{
 "cells": [
  {
   "cell_type": "markdown",
   "metadata": {},
   "source": [
    "### This demo shows how to detect faces from video and displays result in realtime\n",
    "\n",
    "You need OpenCV installed to run this example. To install it, run ___pip install opencv-python___\n"
   ]
  },
  {
   "cell_type": "code",
   "execution_count": 1,
   "metadata": {},
   "outputs": [
    {
     "name": "stdout",
     "output_type": "stream",
     "text": [
      "Populating the interactive namespace from numpy and matplotlib\n"
     ]
    }
   ],
   "source": [
    "%pylab inline \n",
    "import face_recognition\n",
    "import cv2\n",
    "import matplotlib.patches as patches\n",
    "from IPython.display import clear_output\n",
    "from matplotlib.pyplot import imshow\n",
    "import matplotlib.pylab as plt"
   ]
  },
  {
   "cell_type": "code",
   "execution_count": 2,
   "metadata": {},
   "outputs": [
    {
     "data": {
      "image/png": "iVBORw0KGgoAAAANSUhEUgAAAXoAAADrCAYAAABn7V3CAAAABHNCSVQICAgIfAhkiAAAAAlwSFlz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\nq1evMhwOeeKJJ3jk0Yt
      "text/plain": [
       "<matplotlib.figure.Figure at 0x7f38f8c8c3c8>"
      ]
     },
     "metadata": {},
     "output_type": "display_data"
    }
   ],
   "source": [
    "# Loading video for face detection\n",
    "video_capture = cv2.VideoCapture(\"../hamilton_clip.mp4\")\n",
    "\n",
    "frame_count = 0\n",
    "\n",
    "while video_capture.isOpened():    \n",
    "    # Grab a single frame of video\n",
    "    ret, frame = video_capture.read()\n",
    "\n",
    "    # Bail out when the video file ends\n",
    "    if not ret:\n",
    "        video_capture.release()\n",
    "        break\n",
    "        \n",
    "    # We will search face in every 15 frames to speed up process.\n",
    "    frame_count += 1\n",
    "    if frame_count % 15 == 0:    \n",
    "        frame = cv2.cvtColor(frame, cv2.COLOR_BGR2RGB)\n",
    "        \n",
    "        # Display video frame\n",
    "        title(\"Input Stream\")\n",
    "        plt.imshow(frame)        \n",
    "\n",
    "        # Find all the faces and face encodings in the current frame of video\n",
    "        rgb_frame = frame[:, :, ::-1]\n",
    "        face_locations = face_recognition.face_locations(rgb_frame)\n",
    "        \n",
    "        # If faces were found, we will mark it on frame with blue dots\n",
    "        for face_location in face_locations:        \n",
    "            plt.plot(face_location[1], face_location[0], 'bo')\n",
    "            plt.plot(face_location[1], face_location[2], 'bo')\n",
    "            plt.plot(face_location[3], face_location[2], 'bo')\n",
    "            plt.plot(face_location[3], face_location[0], 'bo')\n",
    "\n",
    "        # Show frame...\n",
    "        plt.show() \n",
    "        # ... and hold it until a new frame appears\n",
    "        clear_output(wait=True)"
   ]
  },
  {
   "cell_type": "code",
   "execution_count": null,
   "metadata": {
    "collapsed": true
   },
   "outputs": [],
   "source": []
  }
 ],
 "metadata": {
  "kernelspec": {
   "display_name": "Python 3",
   "language": "python",
   "name": "python3"
  },
  "language_info": {
   "codemirror_mode": {
    "name": "ipython",
    "version": 3
   },
   "file_extension": ".py",
   "mimetype": "text/x-python",
   "name": "python",
   "nbconvert_exporter": "python",
   "pygments_lexer": "ipython3",
   "version": "3.6.3"
  }
 },
 "nbformat": 4,
 "nbformat_minor": 2
}
